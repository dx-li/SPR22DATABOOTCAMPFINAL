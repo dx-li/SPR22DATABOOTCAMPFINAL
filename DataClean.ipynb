{
 "cells": [
  {
   "cell_type": "code",
   "execution_count": 1,
   "id": "a5030137",
   "metadata": {},
   "outputs": [],
   "source": [
    "import pandas as pd\n",
    "import numpy as np\n",
    "import statsmodels.api as sm"
   ]
  },
  {
   "cell_type": "code",
   "execution_count": 8,
   "id": "77b6e38b",
   "metadata": {},
   "outputs": [],
   "source": [
    "def to_panel(filename, outputname):\n",
    "    df = pd.read_csv(filename)\n",
    "    df = df.dropna()\n",
    "    df = df.replace('..', 0) #needed for pivoting to work, no other values are 0\n",
    "    df = df.drop(df.iloc[:, -3:].columns, axis = 1).drop([\"Country Code\", \"Series Code\"], axis = 1) #3 most recent years definitely don't have full data\n",
    "    df = df.melt(id_vars = [\"Country Name\", \"Series Name\"], var_name = \"Date\", value_name = \"Value\")\n",
    "    df['Date'] = df['Date'].str[:4]\n",
    "    df = df.pivot_table(values = \"Value\", index = ['Country Name', 'Date'], columns = ['Series Name'])\n",
    "    df = df.replace(0, np.NaN) #return data to original but with NaN\n",
    "    df.to_csv(outputname)"
   ]
  },
  {
   "cell_type": "code",
   "execution_count": 10,
   "id": "6a8ee332",
   "metadata": {},
   "outputs": [],
   "source": [
    "to_panel(\"WBEUROPE.csv\", \"PANELEUROPE.csv\")\n",
    "to_panel(\"WBLATAM.csv\", \"PANELLATAM.csv\")"
   ]
  }
 ],
 "metadata": {
  "kernelspec": {
   "display_name": "Python 3 (ipykernel)",
   "language": "python",
   "name": "python3"
  },
  "language_info": {
   "codemirror_mode": {
    "name": "ipython",
    "version": 3
   },
   "file_extension": ".py",
   "mimetype": "text/x-python",
   "name": "python",
   "nbconvert_exporter": "python",
   "pygments_lexer": "ipython3",
   "version": "3.10.4"
  }
 },
 "nbformat": 4,
 "nbformat_minor": 5
}
